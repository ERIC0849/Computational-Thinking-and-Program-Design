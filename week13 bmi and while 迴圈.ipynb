{
  "nbformat": 4,
  "nbformat_minor": 0,
  "metadata": {
    "colab": {
      "name": "Untitled12.ipynb",
      "provenance": [],
      "authorship_tag": "ABX9TyMRtFL3XFmeasWwE9CStB7d",
      "include_colab_link": true
    },
    "kernelspec": {
      "name": "python3",
      "display_name": "Python 3"
    }
  },
  "cells": [
    {
      "cell_type": "markdown",
      "metadata": {
        "id": "view-in-github",
        "colab_type": "text"
      },
      "source": [
        "<a href=\"https://colab.research.google.com/github/ERIC0849/Computational-Thinking-and-Program-Design/blob/master/week13%20bmi%20and%20while%20%E8%BF%B4%E5%9C%88.ipynb\" target=\"_parent\"><img src=\"https://colab.research.google.com/assets/colab-badge.svg\" alt=\"Open In Colab\"/></a>"
      ]
    },
    {
      "cell_type": "code",
      "metadata": {
        "id": "R74gTDK43GQJ",
        "colab_type": "code",
        "colab": {
          "base_uri": "https://localhost:8080/",
          "height": 90
        },
        "outputId": "41b26778-240e-4442-faf3-6cf5ac02b750"
      },
      "source": [
        "\n",
        "Weigh = float(input(\"請輸入體重(KG)?\"))\n",
        "high = float(input(\"請輸入身高(M)?\"))\n",
        "bmi = Weigh/(high*high)\n",
        "print(\"BMI為\",bmi)\n",
        "if bmi<18:\n",
        "  print(\"體重過輕了喔\")\n",
        "elif bmi<24:\n",
        "  print(\"非常好體重正常\")\n",
        "elif bmi<27:\n",
        "  print(\"該控制囉體重過重\")\n",
        "else:\n",
        "  print(\"很不應該體重肥胖\")"
      ],
      "execution_count": 1,
      "outputs": [
        {
          "output_type": "stream",
          "text": [
            "請輸入體重(KG)?61\n",
            "請輸入身高(M)?1.7\n",
            "BMI為 21.107266435986162\n",
            "非常好體重正常\n"
          ],
          "name": "stdout"
        }
      ]
    },
    {
      "cell_type": "code",
      "metadata": {
        "id": "vJJwARM83U0I",
        "colab_type": "code",
        "colab": {
          "base_uri": "https://localhost:8080/",
          "height": 199
        },
        "outputId": "91a5d017-ee62-423d-9d49-7cbb7a3dd866"
      },
      "source": [
        "n=0\n",
        "while n < 10:\n",
        "  print(\"Hello，你好嗎\")\n",
        "  n=n+1\n",
        "\n",
        "  \n",
        "\n"
      ],
      "execution_count": 6,
      "outputs": [
        {
          "output_type": "stream",
          "text": [
            "Hello，你好嗎\n",
            "Hello，你好嗎\n",
            "Hello，你好嗎\n",
            "Hello，你好嗎\n",
            "Hello，你好嗎\n",
            "Hello，你好嗎\n",
            "Hello，你好嗎\n",
            "Hello，你好嗎\n",
            "Hello，你好嗎\n",
            "Hello，你好嗎\n"
          ],
          "name": "stdout"
        }
      ]
    },
    {
      "cell_type": "code",
      "metadata": {
        "id": "wKWtboS66CKf",
        "colab_type": "code",
        "colab": {
          "base_uri": "https://localhost:8080/",
          "height": 199
        },
        "outputId": "dfc47968-b740-43a3-cd8c-8c23807d5456"
      },
      "source": [
        "n=0\n",
        "while n < 10:\n",
        "  print(\"Hello,你好嗎\")\n",
        "  n=1\n",
        "  print(\"Hello,你好嗎\")\n",
        "  n=2\n",
        "  print(\"Hello,你好嗎\")\n",
        "  n=3\n",
        "  print(\"Hello,你好嗎\")\n",
        "  n=4\n",
        "  print(\"Hello,你好嗎\")\n",
        "  n=5\n",
        "  print(\"Hello,你好嗎\")\n",
        "  n=6\n",
        "  print(\"Hello,你好嗎\")\n",
        "  n=7\n",
        "  print(\"Hello,你好嗎\")\n",
        "  n=8\n",
        "  print(\"Hello,你好嗎\")\n",
        "  n=9\n",
        "  print(\"Hello,你好嗎\")\n",
        "  n=10\n",
        "  "
      ],
      "execution_count": 11,
      "outputs": [
        {
          "output_type": "stream",
          "text": [
            "Hello,你好嗎\n",
            "Hello,你好嗎\n",
            "Hello,你好嗎\n",
            "Hello,你好嗎\n",
            "Hello,你好嗎\n",
            "Hello,你好嗎\n",
            "Hello,你好嗎\n",
            "Hello,你好嗎\n",
            "Hello,你好嗎\n",
            "Hello,你好嗎\n"
          ],
          "name": "stdout"
        }
      ]
    }
  ]
}