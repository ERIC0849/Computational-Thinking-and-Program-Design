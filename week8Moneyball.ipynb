{
  "nbformat": 4,
  "nbformat_minor": 0,
  "metadata": {
    "colab": {
      "name": "Untitled9.ipynb",
      "provenance": [],
      "authorship_tag": "ABX9TyO5iCXE3IQrmQLEUC+gP4rf",
      "include_colab_link": true
    },
    "kernelspec": {
      "name": "python3",
      "display_name": "Python 3"
    }
  },
  "cells": [
    {
      "cell_type": "markdown",
      "metadata": {
        "id": "view-in-github",
        "colab_type": "text"
      },
      "source": [
        "<a href=\"https://colab.research.google.com/github/ERIC0849/Computational-Thinking-and-Program-Design/blob/master/week8Moneyball.ipynb\" target=\"_parent\"><img src=\"https://colab.research.google.com/assets/colab-badge.svg\" alt=\"Open In Colab\"/></a>"
      ]
    },
    {
      "cell_type": "code",
      "metadata": {
        "id": "1nauz6uNadBJ",
        "colab_type": "code",
        "colab": {
          "base_uri": "https://localhost:8080/",
          "height": 108
        },
        "outputId": "9ed0f8af-b8dd-40b3-e9de-8da52ef6b8f5"
      },
      "source": [
        "minutes_to_convert=133\n",
        "hours_decimal=minutes_to_convert/60\n",
        "hours_part=int(hours_decimal)\n",
        "minutes_decimal=hours_decimal-hours_part\n",
        "minutes_part=round(minutes_decimal*60)\n",
        "minutes_part=minutes_to_convert//60\n",
        "minutes_part=minutes_to_convert%60\n",
        "print(\"Hours\")\n",
        "print(hours_part)\n",
        "print(\"Minutes\")\n",
        "print(minutes_part)\n",
        "print(minutes_to_convert)"
      ],
      "execution_count": 2,
      "outputs": [
        {
          "output_type": "stream",
          "text": [
            "Hours\n",
            "2\n",
            "Minutes\n",
            "13\n",
            "133\n"
          ],
          "name": "stdout"
        }
      ]
    }
  ]
}