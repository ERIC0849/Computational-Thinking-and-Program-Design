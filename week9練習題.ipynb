{
  "nbformat": 4,
  "nbformat_minor": 0,
  "metadata": {
    "kernelspec": {
      "display_name": "Python 3",
      "language": "python",
      "name": "python3"
    },
    "language_info": {
      "codemirror_mode": {
        "name": "ipython",
        "version": 3
      },
      "file_extension": ".py",
      "mimetype": "text/x-python",
      "name": "python",
      "nbconvert_exporter": "python",
      "pygments_lexer": "ipython3",
      "version": "3.7.4"
    },
    "colab": {
      "name": "Basic Python複習.ipynb",
      "provenance": [],
      "include_colab_link": true
    }
  },
  "cells": [
    {
      "cell_type": "markdown",
      "metadata": {
        "id": "view-in-github",
        "colab_type": "text"
      },
      "source": [
        "<a href=\"https://colab.research.google.com/github/ERIC0849/Computational-Thinking-and-Program-Design/blob/master/week9%E7%B7%B4%E7%BF%92%E9%A1%8C.ipynb\" target=\"_parent\"><img src=\"https://colab.research.google.com/assets/colab-badge.svg\" alt=\"Open In Colab\"/></a>"
      ]
    },
    {
      "cell_type": "markdown",
      "metadata": {
        "id": "sN926QvsGUXO",
        "colab_type": "text"
      },
      "source": [
        "### LBD 1: 請設計一個程式計算圓面積與圓周長，依輸入的半徑計算圓面積與圓周長。"
      ]
    },
    {
      "cell_type": "code",
      "metadata": {
        "id": "2-slz5kVGUXP",
        "colab_type": "code",
        "colab": {
          "base_uri": "https://localhost:8080/",
          "height": 54
        },
        "outputId": "0138086c-2dad-4e7b-eff2-5d6f5fc18dba"
      },
      "source": [
        "半徑=float(input('請輸入半徑?'))\n",
        "PI=3.14159\n",
        "圓周長=2*PI*半徑\n",
        "圓面積=半徑*半徑*PI\n",
        "print('圓周長為',圓周長,'圓面積為',圓面積)"
      ],
      "execution_count": 1,
      "outputs": [
        {
          "output_type": "stream",
          "text": [
            "請輸入半徑?2\n",
            "圓周長為 12.56636 圓面積為 12.56636\n"
          ],
          "name": "stdout"
        }
      ]
    },
    {
      "cell_type": "markdown",
      "metadata": {
        "id": "oOcVBQ0qGUXS",
        "colab_type": "text"
      },
      "source": [
        "### LBD 2: 請設計一個程式將輸入的攝氏溫度轉成華氏溫度，轉換公式如下:華氏溫度= 攝氏溫度*9/5+32"
      ]
    },
    {
      "cell_type": "code",
      "metadata": {
        "id": "I2-ot2oLGUXT",
        "colab_type": "code",
        "colab": {
          "base_uri": "https://localhost:8080/",
          "height": 54
        },
        "outputId": "aa9e3749-74a8-41e4-c81b-4085225167a0"
      },
      "source": [
        "c=float(input('請輸入攝氏溫度?'))\n",
        "f=c*9/5+32\n",
        "print('華氏溫度為',f)\n"
      ],
      "execution_count": 3,
      "outputs": [
        {
          "output_type": "stream",
          "text": [
            "請輸入攝氏溫度?2.5\n",
            "華氏溫度為 36.5\n"
          ],
          "name": "stdout"
        }
      ]
    },
    {
      "cell_type": "markdown",
      "metadata": {
        "id": "c14IvE9CGUXY",
        "colab_type": "text"
      },
      "source": [
        "### LBD 3: 假設上衣300元、褲子350元與背心400元，使用者可以自行輸入三種服裝的數量，請設計一個程式計算訂購服裝的總金額。"
      ]
    },
    {
      "cell_type": "code",
      "metadata": {
        "id": "2LaEyo0eGUXZ",
        "colab_type": "code",
        "colab": {
          "base_uri": "https://localhost:8080/",
          "height": 90
        },
        "outputId": "b157b519-d598-4ee8-af40-c660fd65b3f0"
      },
      "source": [
        "上衣=int(input('請輸入上衣數量?'))\n",
        "褲子=int(input('請輸入褲子數量?'))\n",
        "背心=int(input('請輸入背心數量?'))\n",
        "總金額=上衣*300+褲子*350+背心*400\n",
        "print('訂購服裝的總金額為',總金額)"
      ],
      "execution_count": 4,
      "outputs": [
        {
          "output_type": "stream",
          "text": [
            "請輸入上衣數量?5\n",
            "請輸入褲子數量?6\n",
            "請輸入背心數量?2\n",
            "訂購服裝的總金額為 4400\n"
          ],
          "name": "stdout"
        }
      ]
    },
    {
      "cell_type": "markdown",
      "metadata": {
        "id": "fRsgdKMxGUXc",
        "colab_type": "text"
      },
      "source": [
        "### LBD 4: 為了刺激銷售量，賣場通常買一打會比買一罐便宜，假設一罐賣20元，一打賣200元，請設計一個程式計算買幾罐需花多少錢，若不足一打就個別買。"
      ]
    },
    {
      "cell_type": "code",
      "metadata": {
        "id": "HAqDX3vrGUXd",
        "colab_type": "code",
        "colab": {
          "base_uri": "https://localhost:8080/",
          "height": 54
        },
        "outputId": "a1b55344-8a87-4a33-e429-cadb3f505adc"
      },
      "source": [
        "罐數=int(input('請輸入購買飲料的罐數?'))\n",
        "金額=(罐數//12)*200+(罐數%12)*20\n",
        "print('需花費',金額)"
      ],
      "execution_count": 5,
      "outputs": [
        {
          "output_type": "stream",
          "text": [
            "請輸入購買飲料的罐數?40\n",
            "需花費 680\n"
          ],
          "name": "stdout"
        }
      ]
    },
    {
      "cell_type": "markdown",
      "metadata": {
        "id": "D2HCggJ1GUXf",
        "colab_type": "text"
      },
      "source": [
        "### LBD 5: 請輸入第一次期中考、第二次期中考與期末考成績，成績皆為整數，請計算分數的加總與平均。"
      ]
    },
    {
      "cell_type": "code",
      "metadata": {
        "id": "-mLPMTskGUXg",
        "colab_type": "code",
        "colab": {
          "base_uri": "https://localhost:8080/",
          "height": 108
        },
        "outputId": "febc28f5-3316-448a-a6d5-97c4a26d4656"
      },
      "source": [
        "第一次期中考成績=int(input(\"請輸入第一次期中考成績\"))\n",
        "第二次期中考成績=int(input(\"請輸入第二次期中考成績\"))\n",
        "期末考成績=int(input(\"請輸入期末考成績\"))\n",
        "總分=第一次期中考成績 + 第二次期中考成績 + 期末考成績\n",
        "print(\"總分為\",總分)\n",
        "平均分數=(第一次期中考成績 + 第二次期中考成績 + 期末考成績)//3\n",
        "print(\"平均分數為\",平均分數)"
      ],
      "execution_count": 10,
      "outputs": [
        {
          "output_type": "stream",
          "text": [
            "請輸入第一次期中考成績85\n",
            "請輸入第二次期中考成績95\n",
            "請輸入期末考成績98\n",
            "總分為 278\n",
            "平均分數為 92\n"
          ],
          "name": "stdout"
        }
      ]
    },
    {
      "cell_type": "code",
      "metadata": {
        "id": "e-L1lgz4GUXj",
        "colab_type": "code",
        "colab": {}
      },
      "source": [
        ""
      ],
      "execution_count": 0,
      "outputs": []
    }
  ]
}