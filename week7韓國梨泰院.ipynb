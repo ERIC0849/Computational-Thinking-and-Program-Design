{
  "nbformat": 4,
  "nbformat_minor": 0,
  "metadata": {
    "colab": {
      "name": "Untitled8.ipynb",
      "provenance": [],
      "authorship_tag": "ABX9TyOd2zgm3F3MuXVgRHN69/3D",
      "include_colab_link": true
    },
    "kernelspec": {
      "name": "python3",
      "display_name": "Python 3"
    }
  },
  "cells": [
    {
      "cell_type": "markdown",
      "metadata": {
        "id": "view-in-github",
        "colab_type": "text"
      },
      "source": [
        "<a href=\"https://colab.research.google.com/github/ERIC0849/Computational-Thinking-and-Program-Design/blob/master/week7%E9%9F%93%E5%9C%8B%E6%A2%A8%E6%B3%B0%E9%99%A2.ipynb\" target=\"_parent\"><img src=\"https://colab.research.google.com/assets/colab-badge.svg\" alt=\"Open In Colab\"/></a>"
      ]
    },
    {
      "cell_type": "code",
      "metadata": {
        "id": "04EwTC_6Ayfz",
        "colab_type": "code",
        "colab": {
          "base_uri": "https://localhost:8080/",
          "height": 68
        },
        "outputId": "dc23d5cb-ffbf-4e30-f627-bfcb9c7b90ea"
      },
      "source": [
        "#1.從維基百科資料庫找出要記錄的韓國梨泰院相關資訊\n",
        "##網址:https://zh.wikipedia.org/wiki/%E6%A2%A8%E6%B3%B0%E9%99%A2Class\n",
        "##相關資訊:連續劇名稱、首播日期......\n",
        "#2.在Python用變數儲存資訊\n",
        "tvseries_title=\"梨泰院Class\"#影劇名稱\n",
        "release_year=\"2020\"#首播日期\n",
        "tvseries_time_min=60#每集片長\n",
        "tVRating =16.548#韓國全國收視率\n",
        "director=\"Kim Sung Yoon\"#導演\n",
        "stars_1=\"朴敘俊\"#主要演員\n",
        "stars_2=\"金多美\"\n",
        "stars_3=\"權娜拉\"\n",
        "stars_4=\"劉在明\" \n",
        "tvseriesoperation=\"Showbox ZIUM CONTENT\"#製作公司\n",
        "like=1 #你喜不喜歡\n",
        "#3.印出韓國梨泰院的相關資訊\n",
        "print(tvseries_title)#螢幕列印\n",
        "print(release_year)\n",
        "print(tvseries_time_min)"
      ],
      "execution_count": 4,
      "outputs": [
        {
          "output_type": "stream",
          "text": [
            "梨泰院Class\n",
            "2020\n",
            "60\n"
          ],
          "name": "stdout"
        }
      ]
    }
  ]
}