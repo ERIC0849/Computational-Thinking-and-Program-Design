{
  "nbformat": 4,
  "nbformat_minor": 0,
  "metadata": {
    "colab": {
      "name": "Untitled9.ipynb",
      "provenance": [],
      "authorship_tag": "ABX9TyNwa1fM6ZXB3nVVOsqK9+nS",
      "include_colab_link": true
    },
    "kernelspec": {
      "name": "python3",
      "display_name": "Python 3"
    }
  },
  "cells": [
    {
      "cell_type": "markdown",
      "metadata": {
        "id": "view-in-github",
        "colab_type": "text"
      },
      "source": [
        "<a href=\"https://colab.research.google.com/github/ERIC0849/Computational-Thinking-and-Program-Design/blob/master/week12%E5%96%AE%E5%90%91%E9%81%B8%E6%93%87%E5%92%8C%E5%B7%A2%E7%8B%80.ipynb\" target=\"_parent\"><img src=\"https://colab.research.google.com/assets/colab-badge.svg\" alt=\"Open In Colab\"/></a>"
      ]
    },
    {
      "cell_type": "code",
      "metadata": {
        "id": "qI9qmFALrxvY",
        "colab_type": "code",
        "outputId": "784b2db6-3ea3-4091-eb5c-1d414aaea09a",
        "colab": {
          "base_uri": "https://localhost:8080/",
          "height": 54
        }
      },
      "source": [
        " cookingspaghtti= True\n",
        " noodle= True\n",
        " sauce= True\n",
        "if cookingspaghtti:\n",
        "     print(\"noodle\")\n",
        "     print(\"sauce\")\n",
        "     \n"
      ],
      "execution_count": 9,
      "outputs": [
        {
          "output_type": "stream",
          "text": [
            "noodle\n",
            "sauce\n"
          ],
          "name": "stdout"
        }
      ]
    },
    {
      "cell_type": "code",
      "metadata": {
        "id": "0MxjS-8L4ibn",
        "colab_type": "code",
        "colab": {
          "base_uri": "https://localhost:8080/",
          "height": 54
        },
        "outputId": "257aacc5-b476-4e68-d392-91970bfb46dd"
      },
      "source": [
        "noodle=input(\"有麵嗎?(yes/no)\")\n",
        "sauce=input(\"有醬嗎?(yes/no)\")\n"
      ],
      "execution_count": 25,
      "outputs": [
        {
          "output_type": "stream",
          "text": [
            "有麵嗎?(yes/no)yes\n",
            "有醬嗎?(yes/no)yes\n"
          ],
          "name": "stdout"
        }
      ]
    },
    {
      "cell_type": "code",
      "metadata": {
        "id": "lOY12HmtzU2J",
        "colab_type": "code",
        "colab": {
          "base_uri": "https://localhost:8080/",
          "height": 35
        },
        "outputId": "59cf0171-887b-43e0-dc26-c0781d167b91"
      },
      "source": [
        " noodle= True\n",
        " sauce= True\n",
        " if noodle==True and sauce==True:\n",
        "         print(\"今天煮義大利麵\")"
      ],
      "execution_count": 26,
      "outputs": [
        {
          "output_type": "stream",
          "text": [
            "今天煮義大利麵\n"
          ],
          "name": "stdout"
        }
      ]
    },
    {
      "cell_type": "code",
      "metadata": {
        "id": "FhnFFcP0zYJ4",
        "colab_type": "code",
        "colab": {
          "base_uri": "https://localhost:8080/",
          "height": 35
        },
        "outputId": "4cbf19c4-5123-4cb1-a0b4-d86f1696fe91"
      },
      "source": [
        "noodle = False\n",
        "sauce = False\n",
        "if noodle==True and sauce==True:\n",
        "         print(\"今天煮義大利麵\")\n",
        "else:\n",
        "         print(\"今天不煮義大利麵\")"
      ],
      "execution_count": 27,
      "outputs": [
        {
          "output_type": "stream",
          "text": [
            "今天不煮義大利麵\n"
          ],
          "name": "stdout"
        }
      ]
    },
    {
      "cell_type": "code",
      "metadata": {
        "id": "aLa-7XZC1iYw",
        "colab_type": "code",
        "colab": {
          "base_uri": "https://localhost:8080/",
          "height": 72
        },
        "outputId": "b726e8e7-197e-4f8d-8c30-73c4a20b3cd7"
      },
      "source": [
        "noodle= True\n",
        "sauce= True\n",
        "if noodle==True:\n",
        "   print(\"有麵\")\n",
        "   if sauce==True:\n",
        "     print(\"有醬\")\n",
        "print(\"今天煮義大利麵\")     "
      ],
      "execution_count": 28,
      "outputs": [
        {
          "output_type": "stream",
          "text": [
            "有麵\n",
            "有醬\n",
            "今天煮義大利麵\n"
          ],
          "name": "stdout"
        }
      ]
    },
    {
      "cell_type": "code",
      "metadata": {
        "id": "C5Sv8Rxl2iyo",
        "colab_type": "code",
        "colab": {
          "base_uri": "https://localhost:8080/",
          "height": 72
        },
        "outputId": "9689e635-89b3-4281-ae91-e74b436c9be7"
      },
      "source": [
        "noodle=False\n",
        "sauce=False\n",
        "if noodle==True:\n",
        "     print(\"有麵\")\n",
        "print(\"沒有麵\")\n",
        "if sauce==True:\n",
        "       print(\"有醬\")\n",
        "print(\"沒有醬\")  \n",
        "print(\"今天不煮義大利麵\")     "
      ],
      "execution_count": 29,
      "outputs": [
        {
          "output_type": "stream",
          "text": [
            "沒有麵\n",
            "沒有醬\n",
            "今天不煮義大利麵\n"
          ],
          "name": "stdout"
        }
      ]
    }
  ]
}