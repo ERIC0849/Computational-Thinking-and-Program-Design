{
  "nbformat": 4,
  "nbformat_minor": 0,
  "metadata": {
    "colab": {
      "name": "Untitled10.ipynb",
      "provenance": [],
      "authorship_tag": "ABX9TyPS8K+vmit6t6V1vsxxrv5C",
      "include_colab_link": true
    },
    "kernelspec": {
      "name": "python3",
      "display_name": "Python 3"
    }
  },
  "cells": [
    {
      "cell_type": "markdown",
      "metadata": {
        "id": "view-in-github",
        "colab_type": "text"
      },
      "source": [
        "<a href=\"https://colab.research.google.com/github/ERIC0849/Computational-Thinking-and-Program-Design/blob/master/WEEK13%E5%96%AE%E5%90%91%E9%9B%99%E5%90%91%E5%A4%9A%E5%90%91.ipynb\" target=\"_parent\"><img src=\"https://colab.research.google.com/assets/colab-badge.svg\" alt=\"Open In Colab\"/></a>"
      ]
    },
    {
      "cell_type": "code",
      "metadata": {
        "id": "GGJaw4rnuCV-",
        "colab_type": "code",
        "colab": {
          "base_uri": "https://localhost:8080/",
          "height": 54
        },
        "outputId": "d554ed29-b8f3-4ad2-c205-352c6bcd28a4"
      },
      "source": [
        "score=int(input(\"請輸入一個成績\"))\n",
        "if score>=80:\n",
        "  print(\"評語為\"\"非常好\")"
      ],
      "execution_count": 4,
      "outputs": [
        {
          "output_type": "stream",
          "text": [
            "請輸入一個成績80\n",
            "評語為非常好\n"
          ],
          "name": "stdout"
        }
      ]
    },
    {
      "cell_type": "code",
      "metadata": {
        "id": "MErKPWb30X4V",
        "colab_type": "code",
        "colab": {
          "base_uri": "https://localhost:8080/",
          "height": 54
        },
        "outputId": "f6628b81-d0a8-433a-8422-e20390f02d4b"
      },
      "source": [
        "score=int(input(\"請輸入一個成績\"))\n",
        "if score>=80:\n",
        "  print(\"評語為\"\"非常好\")\n",
        "else: \n",
        "  print(\"評語為\"\"要加油喔\")"
      ],
      "execution_count": 10,
      "outputs": [
        {
          "output_type": "stream",
          "text": [
            "請輸入一個成績58\n",
            "評語為要加油喔\n"
          ],
          "name": "stdout"
        }
      ]
    },
    {
      "cell_type": "code",
      "metadata": {
        "id": "OtsdUnnox85-",
        "colab_type": "code",
        "colab": {
          "base_uri": "https://localhost:8080/",
          "height": 54
        },
        "outputId": "cf43f78a-b13e-4332-be92-9b72a3b8a6f4"
      },
      "source": [
        "score=int(input(\"請輸入一個成績\"))\n",
        "if score>=80:\n",
        "  print(\"評語為\"\"非常好\")\n",
        "elif score>=60:\n",
        "     print(\"評語為\"\"不錯喔\")\n",
        "else:\n",
        " print(\"評語為\"\"要加油喔\")     "
      ],
      "execution_count": 9,
      "outputs": [
        {
          "output_type": "stream",
          "text": [
            "請輸入一個成績60\n",
            "評語為不錯喔\n"
          ],
          "name": "stdout"
        }
      ]
    }
  ]
}